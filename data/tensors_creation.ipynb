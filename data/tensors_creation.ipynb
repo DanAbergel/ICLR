{
 "cells": [
  {
   "cell_type": "code",
   "execution_count": null,
   "id": "e4b6ce08-c9b9-48f7-ba18-5879d99c3766",
   "metadata": {},
   "outputs": [],
   "source": [
    "import json\n",
    "import os\n",
    "from datetime import datetime\n",
    "\n",
    "import nibabel as nib\n",
    "import torch\n",
    "from nilearn import datasets\n",
    "from nilearn.maskers import NiftiLabelsMasker\n",
    "from tqdm.auto import tqdm"
   ]
  },
  {
   "cell_type": "code",
   "execution_count": null,
   "id": "ceb0e493-339f-4b05-ad42-3f50ecfbf0f1",
   "metadata": {},
   "outputs": [],
   "source": [
    "def parse_filename(filename):\n",
    "\n",
    "    name = filename[5:][:-4]\n",
    "    splitted = name.split('_')\n",
    "    subject_id = splitted[0]+'_'+splitted[1]+'_'+splitted[2]\n",
    "    image_id = splitted[-1]\n",
    "    date_str = splitted[3]\n",
    "    date = datetime.strptime(date_str, \"%Y%m%d\").strftime(\"%d/%m/%Y\")\n",
    "    \n",
    "    meta = {\n",
    "            'filename': filename,\n",
    "            'subject_id': subject_id,\n",
    "            'date': date,\n",
    "            'image_id': image_id\n",
    "        }\n",
    "\n",
    "    return meta"
   ]
  },
  {
   "cell_type": "code",
   "execution_count": null,
   "id": "1ef803a0-9b10-4be2-a96f-ba626c011ae0",
   "metadata": {},
   "outputs": [],
   "source": [
    "## Creating raw tensors"
   ]
  },
  {
   "cell_type": "code",
   "execution_count": null,
   "id": "7424285d-579e-4765-bd74-2aba6503446a",
   "metadata": {},
   "outputs": [],
   "source": [
    "\n",
    "\n",
    "# Define the main directory path\n",
    "main_directory =  ''\n",
    "\n",
    "tensor_batch = []\n",
    "batch_size = 70\n",
    "batch_index = 0\n",
    "\n",
    "\n",
    "shape_counter = {}\n",
    "index_to_filename = {}\n",
    "index_counter = 0 \n",
    "\n",
    "# Get list of relevant subfolders\n",
    "subfolders_dir = [x for x in os.listdir(main_directory) if 'subfolder' in x]\n",
    "\n",
    "# Iterate through each folder in the main directory\n",
    "for folder_name in tqdm(subfolders_dir, desc='Processing subfolders'):\n",
    "    folder_path = os.path.join(main_directory, folder_name)\n",
    "    \n",
    "    # Process each NIfTI file in the folder\n",
    "    for file_name in tqdm(os.listdir(folder_path), desc='Processing subjects'):\n",
    "        if file_name.endswith('.nii') or file_name.endswith('.nii.gz'):\n",
    "            file_path = os.path.join(folder_path, file_name)\n",
    "            \n",
    "            # Load NIfTI file and transform it to a tensor\n",
    "            nii_image = nib.load(file_path)\n",
    "            image_tensor = torch.tensor(nii_image.get_fdata(), dtype=torch.float32)\n",
    "            del nii_image\n",
    "            tensor_batch.append(image_tensor)\n",
    "            del image_tensor\n",
    "            \n",
    "            # Map the index in the tensor list to the filename\n",
    "            index_to_filename[index_counter] = file_name\n",
    "            index_counter += 1\n",
    "            \n",
    "            # Check if the batch has reached the specified size\n",
    "            if len(tensor_batch) == batch_size:\n",
    "                # Stack the images and save as a .pt file\n",
    "                batch_tensor = torch.stack(tensor_batch)\n",
    "                torch.save(batch_tensor, f'batched_tensor_{batch_index}.pt')\n",
    "                print(f'batched_tensor_{batch_index} saved!')\n",
    "                \n",
    "                # Clear the list and increment the batch index\n",
    "                tensor_batch = []\n",
    "                batch_index += 1\n",
    "\n",
    "# Save any remaining tensors that didn't complete a full batch\n",
    "if tensor_batch:\n",
    "    batch_tensor = torch.stack(tensor_batch)\n",
    "    torch.save(batch_tensor, f'batched_tensor_{batch_index}.pt')\n"
   ]
  }
 ],
 "metadata": {
  "kernelspec": {
   "display_name": "fm",
   "language": "python",
   "name": "fm"
  },
  "language_info": {
   "codemirror_mode": {
    "name": "ipython",
    "version": 3
   },
   "file_extension": ".py",
   "mimetype": "text/x-python",
   "name": "python",
   "nbconvert_exporter": "python",
   "pygments_lexer": "ipython3",
   "version": "3.13.0"
  }
 },
 "nbformat": 4,
 "nbformat_minor": 5
}
